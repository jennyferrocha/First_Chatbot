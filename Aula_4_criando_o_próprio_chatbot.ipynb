{
  "nbformat": 4,
  "nbformat_minor": 0,
  "metadata": {
    "colab": {
      "provenance": [],
      "authorship_tag": "ABX9TyOkWj7ftJ+AEcip64iuCFPG",
      "include_colab_link": true
    },
    "kernelspec": {
      "name": "python3",
      "display_name": "Python 3"
    },
    "language_info": {
      "name": "python"
    }
  },
  "cells": [
    {
      "cell_type": "markdown",
      "metadata": {
        "id": "view-in-github",
        "colab_type": "text"
      },
      "source": [
        "<a href=\"https://colab.research.google.com/github/jennyferrocha/First_Chatbot/blob/main/Aula_4_criando_o_pr%C3%B3prio_chatbot.ipynb\" target=\"_parent\"><img src=\"https://colab.research.google.com/assets/colab-badge.svg\" alt=\"Open In Colab\"/></a>"
      ]
    },
    {
      "cell_type": "markdown",
      "source": [
        "Instalando o SDK do Google\n"
      ],
      "metadata": {
        "id": "N7r5l_3jXFXA"
      }
    },
    {
      "cell_type": "code",
      "source": [
        "!pip install -q -U google-generativeai"
      ],
      "metadata": {
        "id": "6oPHIZajXJJH"
      },
      "execution_count": 21,
      "outputs": []
    },
    {
      "cell_type": "code",
      "source": [
        "import google.generativeai as genai\n",
        "from google.colab import userdata\n",
        "api_key = userdata.get('SECRET_KEY')\n",
        "genai.configure(api_key=api_key)"
      ],
      "metadata": {
        "id": "MeMBIUAnXPox"
      },
      "execution_count": 25,
      "outputs": []
    },
    {
      "cell_type": "markdown",
      "source": [
        " Listar os modelos disponíveis"
      ],
      "metadata": {
        "id": "-iZkvrVtXpkb"
      }
    },
    {
      "cell_type": "code",
      "source": [
        "for m in genai.list_models():\n",
        "  if 'generateContent' in m.supported_generation_methods:\n",
        "    print(m.name)"
      ],
      "metadata": {
        "colab": {
          "base_uri": "https://localhost:8080/",
          "height": 139
        },
        "id": "BbbmEpeWXua0",
        "outputId": "4be1e7dd-a54a-47fd-faf2-fafcce791cac"
      },
      "execution_count": 8,
      "outputs": [
        {
          "output_type": "stream",
          "name": "stdout",
          "text": [
            "models/gemini-1.0-pro\n",
            "models/gemini-1.0-pro-001\n",
            "models/gemini-1.0-pro-latest\n",
            "models/gemini-1.0-pro-vision-latest\n",
            "models/gemini-1.5-pro-latest\n",
            "models/gemini-pro\n",
            "models/gemini-pro-vision\n"
          ]
        }
      ]
    },
    {
      "cell_type": "code",
      "source": [
        "generation_config = {\n",
        "    \"candidate_count\": 1,\n",
        "    \"temperature\": 0.5,\n",
        "\n",
        "}"
      ],
      "metadata": {
        "id": "QYddt8p-R5hN"
      },
      "execution_count": 1,
      "outputs": []
    },
    {
      "cell_type": "code",
      "source": [
        "safety_settings = {\n",
        "    \"HARASSMENT\": \"BLOCK_NONE\",\n",
        "    \"HATE\": \"BLOCK_NONE\",\n",
        "    \"SEXUAL\": \"BLOCK_NONE\",\n",
        "    \"DANGEROUS\": \"BLOCK_NONE\",\n",
        "\n",
        "}"
      ],
      "metadata": {
        "id": "UgQtHHBFSkE7"
      },
      "execution_count": 2,
      "outputs": []
    },
    {
      "cell_type": "markdown",
      "source": [
        "Inicializando o modelo:"
      ],
      "metadata": {
        "id": "CTKbDhE2TYVo"
      }
    },
    {
      "cell_type": "code",
      "source": [
        "model = genai.GenerativeModel(model_name=\"gemini-1.0-pro\",\n",
        "                              generation_config=generation_config,\n",
        "                              safety_settings=safety_settings)"
      ],
      "metadata": {
        "id": "x27JtI_LTb9K"
      },
      "execution_count": 9,
      "outputs": []
    },
    {
      "cell_type": "code",
      "source": [
        "response = model.generate_content(\"Vamos aprender conteúdo sobre IA. Me dê sugestões.\")\n",
        "print(response.text)"
      ],
      "metadata": {
        "colab": {
          "base_uri": "https://localhost:8080/",
          "height": 729
        },
        "id": "9Lfhme62VFvW",
        "outputId": "f6818b15-a6bb-4a6e-c2cf-a8217d2c1334"
      },
      "execution_count": 10,
      "outputs": [
        {
          "output_type": "stream",
          "name": "stdout",
          "text": [
            "**Introdução à Inteligência Artificial (IA)**\n",
            "\n",
            "* Definição e histórico da IA\n",
            "* Tipos de IA: Aprendizado de Máquina, Aprendizado Profundo, Processamento de Linguagem Natural\n",
            "* Aplicações da IA em vários setores\n",
            "\n",
            "**Aprendizado de Máquina (ML)**\n",
            "\n",
            "* Conceitos básicos: Supervisão, Não Supervisão, Reforço\n",
            "* Algoritmos de ML: Regressão, Classificação, Agrupamento\n",
            "* Avaliação e otimização de modelos de ML\n",
            "* Estudos de caso de aplicações de ML\n",
            "\n",
            "**Aprendizado Profundo (DL)**\n",
            "\n",
            "* Redes Neurais: Arquiteturas e Treinamento\n",
            "* Convolucional Neural Networks (CNNs)\n",
            "* Recurrent Neural Networks (RNNs)\n",
            "* Aplicações de DL em visão computacional, processamento de linguagem natural e muito mais\n",
            "\n",
            "**Processamento de Linguagem Natural (PNL)**\n",
            "\n",
            "* Representação de Texto: Tokenização, Stemming, Lematização\n",
            "* Análise de Sentimento e Classificação de Texto\n",
            "* Geração de Linguagem Natural\n",
            "* Aplicações de PNL em chatbots, resumo de texto e muito mais\n",
            "\n",
            "**Aplicações da IA**\n",
            "\n",
            "* Cuidados de saúde: Diagnóstico, tratamento e pesquisa\n",
            "* Finanças: Detecção de fraudes, análise de mercado e gerenciamento de risco\n",
            "* Transporte: Veículos autônomos, otimização de rotas e gerenciamento de tráfego\n",
            "* Varejo: Recomendações personalizadas, otimização de preços e análise de clientes\n",
            "* Educação: Personalização de aprendizado, avaliação automatizada e chatbots de suporte\n",
            "\n",
            "**Ética e Implicações da IA**\n",
            "\n",
            "* Viés e Discriminação\n",
            "* Privacidade e Segurança\n",
            "* Impacto no Emprego e na Sociedade\n",
            "* Diretrizes Éticas para o Desenvolvimento e Uso de IA\n"
          ]
        }
      ]
    },
    {
      "cell_type": "code",
      "source": [
        "chat = model.start_chat(history=[])"
      ],
      "metadata": {
        "id": "-QibM4qKVdc2"
      },
      "execution_count": 11,
      "outputs": []
    },
    {
      "cell_type": "code",
      "source": [
        "prompt = input(\"Esperando prompt:\")\n",
        "\n",
        "while prompt != \"fim\":\n",
        "  response = chat.send_message(prompt)\n",
        "  print(\"Resposta: \", response.text, \"\\n\")\n",
        "  prompt = input(\"Esperando prompt:\")"
      ],
      "metadata": {
        "colab": {
          "base_uri": "https://localhost:8080/",
          "height": 243
        },
        "id": "6yXZygUVV5E9",
        "outputId": "a5c4aa69-673b-49cf-c9cf-03a516955cb1"
      },
      "execution_count": 14,
      "outputs": [
        {
          "name": "stdout",
          "output_type": "stream",
          "text": [
            "Esperando prompt:Qual a capital do japão?\n",
            "Resposta:  Tóquio \n",
            "\n",
            "Esperando prompt:Qual é a comida típica desse país?\n",
            "Resposta:  Sushi \n",
            "\n",
            "Esperando prompt:O meu primo nasceu nessa cidade. Qual a nacionalidade dele?\n",
            "Resposta:  Japonesa \n",
            "\n",
            "Esperando prompt:E qual é a população dessa cidade?\n",
            "Resposta:  13.960.340 (2023) \n",
            "\n",
            "Esperando prompt:fim\n"
          ]
        }
      ]
    },
    {
      "cell_type": "code",
      "source": [
        "#Melhorando a visualização\n",
        "#Código disponível em https://ai.google.dev/tutorials/python_quickstart#import_packages\n",
        "import textwrap\n",
        "from IPython.display import display\n",
        "from IPython.display import Markdown\n",
        "\n",
        "def to_markdown(text):\n",
        "  text = text.replace('•', '  *')\n",
        "  return Markdown(textwrap.indent(text, '> ', predicate=lambda _: True))\n",
        "\n",
        "#Imprimindo o histórico\n",
        "for message in chat.history:\n",
        "  display(to_markdown(f'*{message.role}*: {message.parts[0].text}'))\n",
        "  print('-------------------------------------------')"
      ],
      "metadata": {
        "colab": {
          "base_uri": "https://localhost:8080/",
          "height": 519
        },
        "id": "KksssHJyX3bh",
        "outputId": "cfb001df-36dd-48aa-970f-c0dfe9b730b0"
      },
      "execution_count": 15,
      "outputs": [
        {
          "output_type": "display_data",
          "data": {
            "text/plain": [
              "<IPython.core.display.Markdown object>"
            ],
            "text/markdown": "> *user*: Qual a capital do japão?"
          },
          "metadata": {}
        },
        {
          "output_type": "stream",
          "name": "stdout",
          "text": [
            "-------------------------------------------\n"
          ]
        },
        {
          "output_type": "display_data",
          "data": {
            "text/plain": [
              "<IPython.core.display.Markdown object>"
            ],
            "text/markdown": "> *model*: Tóquio"
          },
          "metadata": {}
        },
        {
          "output_type": "stream",
          "name": "stdout",
          "text": [
            "-------------------------------------------\n"
          ]
        },
        {
          "output_type": "display_data",
          "data": {
            "text/plain": [
              "<IPython.core.display.Markdown object>"
            ],
            "text/markdown": "> *user*: Qual é a comida típica desse país?"
          },
          "metadata": {}
        },
        {
          "output_type": "stream",
          "name": "stdout",
          "text": [
            "-------------------------------------------\n"
          ]
        },
        {
          "output_type": "display_data",
          "data": {
            "text/plain": [
              "<IPython.core.display.Markdown object>"
            ],
            "text/markdown": "> *model*: Sushi"
          },
          "metadata": {}
        },
        {
          "output_type": "stream",
          "name": "stdout",
          "text": [
            "-------------------------------------------\n"
          ]
        },
        {
          "output_type": "display_data",
          "data": {
            "text/plain": [
              "<IPython.core.display.Markdown object>"
            ],
            "text/markdown": "> *user*: O meu primo nasceu nessa cidade. Qual a nacionalidade dele?"
          },
          "metadata": {}
        },
        {
          "output_type": "stream",
          "name": "stdout",
          "text": [
            "-------------------------------------------\n"
          ]
        },
        {
          "output_type": "display_data",
          "data": {
            "text/plain": [
              "<IPython.core.display.Markdown object>"
            ],
            "text/markdown": "> *model*: Japonesa"
          },
          "metadata": {}
        },
        {
          "output_type": "stream",
          "name": "stdout",
          "text": [
            "-------------------------------------------\n"
          ]
        },
        {
          "output_type": "display_data",
          "data": {
            "text/plain": [
              "<IPython.core.display.Markdown object>"
            ],
            "text/markdown": "> *user*: E qual é a população dessa cidade?"
          },
          "metadata": {}
        },
        {
          "output_type": "stream",
          "name": "stdout",
          "text": [
            "-------------------------------------------\n"
          ]
        },
        {
          "output_type": "display_data",
          "data": {
            "text/plain": [
              "<IPython.core.display.Markdown object>"
            ],
            "text/markdown": "> *model*: 13.960.340 (2023)"
          },
          "metadata": {}
        },
        {
          "output_type": "stream",
          "name": "stdout",
          "text": [
            "-------------------------------------------\n"
          ]
        }
      ]
    }
  ]
}